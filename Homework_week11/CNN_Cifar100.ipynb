{
  "nbformat": 4,
  "nbformat_minor": 0,
  "metadata": {
    "colab": {
      "provenance": [],
      "include_colab_link": true
    },
    "kernelspec": {
      "name": "python3",
      "display_name": "Python 3"
    },
    "language_info": {
      "name": "python"
    },
    "accelerator": "GPU",
    "gpuClass": "standard"
  },
  "cells": [
    {
      "cell_type": "markdown",
      "metadata": {
        "id": "view-in-github",
        "colab_type": "text"
      },
      "source": [
        "<a href=\"https://colab.research.google.com/github/chiusanghung/AI/blob/main/Homework_week11/CNN_Cifar100.ipynb\" target=\"_parent\"><img src=\"https://colab.research.google.com/assets/colab-badge.svg\" alt=\"Open In Colab\"/></a>"
      ]
    },
    {
      "cell_type": "code",
      "execution_count": 58,
      "metadata": {
        "id": "57TLRvvdghOo"
      },
      "outputs": [],
      "source": [
        "from keras.datasets import cifar100\n",
        "(train_X, train_Y), (test_X, test_Y ) = cifar100.load_data()"
      ]
    },
    {
      "cell_type": "code",
      "source": [
        "test_X.shape"
      ],
      "metadata": {
        "colab": {
          "base_uri": "https://localhost:8080/"
        },
        "id": "iIBh69sOgrXs",
        "outputId": "4c1d3430-4e4e-4dfb-da4c-0c99f17617ac"
      },
      "execution_count": 59,
      "outputs": [
        {
          "output_type": "execute_result",
          "data": {
            "text/plain": [
              "(10000, 32, 32, 3)"
            ]
          },
          "metadata": {},
          "execution_count": 59
        }
      ]
    },
    {
      "cell_type": "code",
      "source": [
        "train_X.shape"
      ],
      "metadata": {
        "colab": {
          "base_uri": "https://localhost:8080/"
        },
        "id": "1HjzyXOOg0QF",
        "outputId": "57bb8d20-f596-47d9-ea90-f78460cbdc0c"
      },
      "execution_count": 60,
      "outputs": [
        {
          "output_type": "execute_result",
          "data": {
            "text/plain": [
              "(50000, 32, 32, 3)"
            ]
          },
          "metadata": {},
          "execution_count": 60
        }
      ]
    },
    {
      "cell_type": "code",
      "source": [
        "train_X = train_X.reshape((50000, 32, 32, 3))\n",
        "test_X = test_X.reshape((10000, 32, 32, 3))\n",
        "train_X.shape, test_X.shape\n",
        "train_X = train_X.astype('float32')\n",
        "train_X = train_X/255\n",
        "test_X = test_X.astype('float32')\n",
        "test_X = test_X/255"
      ],
      "metadata": {
        "id": "S2qft8xDg9KK"
      },
      "execution_count": 61,
      "outputs": []
    },
    {
      "cell_type": "code",
      "source": [
        "from keras.utils import to_categorical\n",
        "train_Y = to_categorical(train_Y)\n",
        "test_Y = to_categorical(test_Y)"
      ],
      "metadata": {
        "id": "kHJ5yYA-hHbE"
      },
      "execution_count": 62,
      "outputs": []
    },
    {
      "cell_type": "code",
      "source": [
        "from keras.models import Sequential,Model\n",
        "from keras.layers import Dense,Flatten,Dropout,Conv2D,MaxPooling2D,Normalization,Input\n",
        "from keras.optimizers import Adam\n",
        "from keras import losses\n",
        "loss = losses\n",
        "batch_size = 64\n",
        "epochs = 20\n",
        "classes = 100"
      ],
      "metadata": {
        "id": "qgOBEpBThPqO"
      },
      "execution_count": 63,
      "outputs": []
    },
    {
      "cell_type": "code",
      "source": [
        "from keras.layers import LeakyReLU\n",
        "model = Sequential()\n",
        "model.add(Conv2D(32, kernel_size = (3,3), activation = 'linear', input_shape=(32,32,3), padding= 'same'))\n",
        "model.add(LeakyReLU(alpha = 0.1))\n",
        "model.add(Dropout( 0.25))\n",
        "\n",
        "model.add(MaxPooling2D((2,2), padding = 'same'))\n",
        "model.add(Conv2D(64, (3,3), activation = 'linear', padding = 'same'))\n",
        "model.add(LeakyReLU(alpha = 0.1))\n",
        "model.add(Dropout( 0.25))\n",
        "\n",
        "model.add(MaxPooling2D((2,2), padding = 'same'))\n",
        "model.add(Conv2D(128, (3,3), activation = 'linear', padding = 'same'))\n",
        "model.add(LeakyReLU(alpha = 0.1))\n",
        "model.add(Dropout( 0.25))"
      ],
      "metadata": {
        "id": "GFy1WfKhhTdE"
      },
      "execution_count": 67,
      "outputs": []
    },
    {
      "cell_type": "code",
      "source": [
        "#Đưa vào ANN, bộ ANN để phân loại:\n",
        "from keras.losses import categorical_crossentropy\n",
        "model.add(Flatten())\n",
        "model.add(Dense(128, activation = 'linear'))\n",
        "model.add(LeakyReLU(alpha = 0.1))\n",
        "model.add(Dropout( 0.25))\n",
        "model.add(Dense(classes, activation = 'softmax'))\n",
        "\n",
        "#Compile:\n",
        "model.compile( loss =loss.categorical_crossentropy ,optimizer= \"adam\", metrics= ['accuracy'])\n",
        "model.summary()\n",
        "train = model.fit(train_X, train_Y, batch_size= batch_size, epochs= epochs, verbose= 1)"
      ],
      "metadata": {
        "colab": {
          "base_uri": "https://localhost:8080/"
        },
        "id": "tEJedFBDhe0l",
        "outputId": "2e0931ef-98e1-4b91-a31f-10b3df2dda01"
      },
      "execution_count": 68,
      "outputs": [
        {
          "output_type": "stream",
          "name": "stdout",
          "text": [
            "Model: \"sequential_11\"\n",
            "_________________________________________________________________\n",
            " Layer (type)                Output Shape              Param #   \n",
            "=================================================================\n",
            " conv2d_33 (Conv2D)          (None, 32, 32, 32)        896       \n",
            "                                                                 \n",
            " leaky_re_lu_57 (LeakyReLU)  (None, 32, 32, 32)        0         \n",
            "                                                                 \n",
            " dropout_1 (Dropout)         (None, 32, 32, 32)        0         \n",
            "                                                                 \n",
            " max_pooling2d_22 (MaxPoolin  (None, 16, 16, 32)       0         \n",
            " g2D)                                                            \n",
            "                                                                 \n",
            " conv2d_34 (Conv2D)          (None, 16, 16, 64)        18496     \n",
            "                                                                 \n",
            " leaky_re_lu_58 (LeakyReLU)  (None, 16, 16, 64)        0         \n",
            "                                                                 \n",
            " dropout_2 (Dropout)         (None, 16, 16, 64)        0         \n",
            "                                                                 \n",
            " max_pooling2d_23 (MaxPoolin  (None, 8, 8, 64)         0         \n",
            " g2D)                                                            \n",
            "                                                                 \n",
            " conv2d_35 (Conv2D)          (None, 8, 8, 128)         73856     \n",
            "                                                                 \n",
            " leaky_re_lu_59 (LeakyReLU)  (None, 8, 8, 128)         0         \n",
            "                                                                 \n",
            " dropout_3 (Dropout)         (None, 8, 8, 128)         0         \n",
            "                                                                 \n",
            " flatten_21 (Flatten)        (None, 8192)              0         \n",
            "                                                                 \n",
            " dense_44 (Dense)            (None, 128)               1048704   \n",
            "                                                                 \n",
            " leaky_re_lu_60 (LeakyReLU)  (None, 128)               0         \n",
            "                                                                 \n",
            " dropout_4 (Dropout)         (None, 128)               0         \n",
            "                                                                 \n",
            " dense_45 (Dense)            (None, 100)               12900     \n",
            "                                                                 \n",
            "=================================================================\n",
            "Total params: 1,154,852\n",
            "Trainable params: 1,154,852\n",
            "Non-trainable params: 0\n",
            "_________________________________________________________________\n",
            "Epoch 1/20\n",
            "782/782 [==============================] - 8s 7ms/step - loss: 3.7538 - accuracy: 0.1328\n",
            "Epoch 2/20\n",
            "782/782 [==============================] - 5s 6ms/step - loss: 3.0195 - accuracy: 0.2549\n",
            "Epoch 3/20\n",
            "782/782 [==============================] - 5s 7ms/step - loss: 2.6694 - accuracy: 0.3267\n",
            "Epoch 4/20\n",
            "782/782 [==============================] - 5s 6ms/step - loss: 2.4251 - accuracy: 0.3778\n",
            "Epoch 5/20\n",
            "782/782 [==============================] - 5s 7ms/step - loss: 2.2528 - accuracy: 0.4109\n",
            "Epoch 6/20\n",
            "782/782 [==============================] - 5s 6ms/step - loss: 2.1240 - accuracy: 0.4360\n",
            "Epoch 7/20\n",
            "782/782 [==============================] - 5s 7ms/step - loss: 2.0001 - accuracy: 0.4617\n",
            "Epoch 8/20\n",
            "782/782 [==============================] - 5s 7ms/step - loss: 1.8969 - accuracy: 0.4860\n",
            "Epoch 9/20\n",
            "782/782 [==============================] - 5s 6ms/step - loss: 1.8040 - accuracy: 0.5055\n",
            "Epoch 10/20\n",
            "782/782 [==============================] - 6s 7ms/step - loss: 1.7222 - accuracy: 0.5207\n",
            "Epoch 11/20\n",
            "782/782 [==============================] - 5s 6ms/step - loss: 1.6483 - accuracy: 0.5410\n",
            "Epoch 12/20\n",
            "782/782 [==============================] - 5s 7ms/step - loss: 1.5778 - accuracy: 0.5560\n",
            "Epoch 13/20\n",
            "782/782 [==============================] - 5s 7ms/step - loss: 1.5393 - accuracy: 0.5652\n",
            "Epoch 14/20\n",
            "782/782 [==============================] - 5s 6ms/step - loss: 1.4798 - accuracy: 0.5785\n",
            "Epoch 15/20\n",
            "782/782 [==============================] - 6s 7ms/step - loss: 1.4262 - accuracy: 0.5906\n",
            "Epoch 16/20\n",
            "782/782 [==============================] - 5s 6ms/step - loss: 1.3913 - accuracy: 0.6009\n",
            "Epoch 17/20\n",
            "782/782 [==============================] - 6s 7ms/step - loss: 1.3374 - accuracy: 0.6117\n",
            "Epoch 18/20\n",
            "782/782 [==============================] - 5s 6ms/step - loss: 1.2934 - accuracy: 0.6254\n",
            "Epoch 19/20\n",
            "782/782 [==============================] - 5s 7ms/step - loss: 1.2827 - accuracy: 0.6249\n",
            "Epoch 20/20\n",
            "782/782 [==============================] - 5s 7ms/step - loss: 1.2401 - accuracy: 0.6353\n"
          ]
        }
      ]
    },
    {
      "cell_type": "code",
      "source": [
        "import matplotlib.pyplot as plt\n",
        "eval = model.evaluate(test_X, test_Y, verbose=0)\n",
        "print('Test loss:', eval[0])\n",
        "print('Test accunacy', eval[1])\n",
        "accuracy = train.history['accuracy']\n",
        "loss = train.history['loss']\n",
        "epochs = range(len(accuracy))\n",
        "plt.plot(epochs, accuracy,'bo', label = 'Traning Accuracy')\n",
        "plt.plot(epochs, loss, 'b', label= 'Test Accuracy')\n",
        "plt.title('Training & Testing Accuracy')"
      ],
      "metadata": {
        "colab": {
          "base_uri": "https://localhost:8080/",
          "height": 504
        },
        "id": "r9yA18inhybj",
        "outputId": "5bd8ea39-62ad-4772-86c4-c0db88737aec"
      },
      "execution_count": 69,
      "outputs": [
        {
          "output_type": "stream",
          "name": "stdout",
          "text": [
            "Test loss: 2.6373627185821533\n",
            "Test accunacy 0.4138000011444092\n"
          ]
        },
        {
          "output_type": "execute_result",
          "data": {
            "text/plain": [
              "Text(0.5, 1.0, 'Training & Testing Accuracy')"
            ]
          },
          "metadata": {},
          "execution_count": 69
        },
        {
          "output_type": "display_data",
          "data": {
            "text/plain": [
              "<Figure size 640x480 with 1 Axes>"
            ],
            "image/png": "[encoded data removed]"
          },
          "metadata": {}
        }
      ]
    },
    {
      "cell_type": "code",
      "source": [
        "model.save('/content/drive/MyDrive/AI/AI_Backup/Cifar100CNN.h5')"
      ],
      "metadata": {
        "id": "Uj4qgLwWj7QK"
      },
      "execution_count": null,
      "outputs": []
    },
    {
      "cell_type": "code",
      "source": [
        "from keras.utils import load_img\n",
        "from keras.utils.image_utils import img_to_array\n",
        "import numpy as np\n",
        "from keras.models import load_model\n",
        "import matplotlib.pyplot as plt\n",
        "\n",
        "img1 = load_img('apple.jpeg')\n",
        "plt.imshow(img1)\n",
        "\n",
        "img = load_img('apple.jpeg', target_size = (32,32))\n",
        "img = img_to_array(img)\n",
        "img = img.reshape(1, 32, 32, 3)\n",
        "img = img.astype('float32')\n",
        "img = img / 255\n",
        "np.argmax(model.predict(img),axis = -1)"
      ],
      "metadata": {
        "id": "HVxEvdLjjhWs"
      },
      "execution_count": null,
      "outputs": []
    },
    {
      "cell_type": "code",
      "source": [],
      "metadata": {
        "id": "5halBdptlczx"
      },
      "execution_count": null,
      "outputs": []
    }
  ]
}