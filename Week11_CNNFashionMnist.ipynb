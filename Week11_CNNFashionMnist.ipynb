{
  "nbformat": 4,
  "nbformat_minor": 0,
  "metadata": {
    "colab": {
      "provenance": [],
      "include_colab_link": true
    },
    "kernelspec": {
      "name": "python3",
      "display_name": "Python 3"
    },
    "language_info": {
      "name": "python"
    }
  },
  "cells": [
    {
      "cell_type": "markdown",
      "metadata": {
        "id": "view-in-github",
        "colab_type": "text"
      },
      "source": [
        "<a href=\"https://colab.research.google.com/github/chiusanghung/AI/blob/main/Week11_CNNFashionMnist.ipynb\" target=\"_parent\"><img src=\"https://colab.research.google.com/assets/colab-badge.svg\" alt=\"Open In Colab\"/></a>"
      ]
    },
    {
      "cell_type": "code",
      "execution_count": 1,
      "metadata": {
        "id": "4fZIaNsD3zXK",
        "colab": {
          "base_uri": "https://localhost:8080/"
        },
        "outputId": "b83837f8-971b-499f-d435-3f3886733860"
      },
      "outputs": [
        {
          "output_type": "stream",
          "name": "stdout",
          "text": [
            "Downloading data from https://storage.googleapis.com/tensorflow/tf-keras-datasets/train-labels-idx1-ubyte.gz\n",
            "29515/29515 [==============================] - 0s 0us/step\n",
            "Downloading data from https://storage.googleapis.com/tensorflow/tf-keras-datasets/train-images-idx3-ubyte.gz\n",
            "26421880/26421880 [==============================] - 0s 0us/step\n",
            "Downloading data from https://storage.googleapis.com/tensorflow/tf-keras-datasets/t10k-labels-idx1-ubyte.gz\n",
            "5148/5148 [==============================] - 0s 0us/step\n",
            "Downloading data from https://storage.googleapis.com/tensorflow/tf-keras-datasets/t10k-images-idx3-ubyte.gz\n",
            "4422102/4422102 [==============================] - 0s 0us/step\n"
          ]
        }
      ],
      "source": [
        "from keras.datasets import fashion_mnist\n",
        "(train_X, train_Y), (test_X, test_Y ) = fashion_mnist.load_data()"
      ]
    },
    {
      "cell_type": "code",
      "source": [
        "test_X.shape"
      ],
      "metadata": {
        "colab": {
          "base_uri": "https://localhost:8080/"
        },
        "id": "JeTwifLm4pPg",
        "outputId": "90b1c5b9-11b4-4f45-f604-8b7066beaa89"
      },
      "execution_count": 2,
      "outputs": [
        {
          "output_type": "execute_result",
          "data": {
            "text/plain": [
              "(10000, 28, 28)"
            ]
          },
          "metadata": {},
          "execution_count": 2
        }
      ]
    },
    {
      "cell_type": "code",
      "source": [
        "import matplotlib.pyplot as plt\n",
        "plt.figure(figsize = [10,10])\n",
        "plt.subplot(121)\n",
        "plt.imshow(train_X[0], cmap='gray')\n",
        "plt.title('So: {}'.format(train_Y[0]))\n",
        "plt.subplot(122)\n",
        "plt.imshow(train_X[100], cmap='gray')\n",
        "plt.title('So: {}'.format(train_Y[100]))"
      ],
      "metadata": {
        "colab": {
          "base_uri": "https://localhost:8080/",
          "height": 452
        },
        "id": "8yi36UWt4tSV",
        "outputId": "278c46bb-7e79-49ec-fc60-e4f7971bf3d8"
      },
      "execution_count": 3,
      "outputs": [
        {
          "output_type": "execute_result",
          "data": {
            "text/plain": [
              "Text(0.5, 1.0, 'So: 8')"
            ]
          },
          "metadata": {},
          "execution_count": 3
        },
        {
          "output_type": "display_data",
          "data": {
            "text/plain": [
              "<Figure size 1000x1000 with 2 Axes>"
            ],
            "image/png": "[encoded data removed]"
          },
          "metadata": {}
        }
      ]
    },
    {
      "cell_type": "code",
      "source": [
        "train_X = train_X.reshape((60000, 28, 28, 1))\n",
        "test_X = test_X.reshape((10000, 28, 28, 1))\n",
        "train_X.shape, test_X.shape\n",
        "train_X = train_X.astype('float32')\n",
        "train_X = train_X/255\n",
        "test_X = test_X.astype('float32')\n",
        "test_X = test_X/255"
      ],
      "metadata": {
        "id": "pYTnMkIs6ERZ"
      },
      "execution_count": 4,
      "outputs": []
    },
    {
      "cell_type": "code",
      "source": [
        "from keras.utils import to_categorical\n",
        "train_Y = to_categorical(train_Y)\n",
        "test_Y = to_categorical(test_Y)"
      ],
      "metadata": {
        "id": "dkAZj--h7Rno"
      },
      "execution_count": 5,
      "outputs": []
    },
    {
      "cell_type": "code",
      "source": [
        "from keras.models import Sequential,Model\n",
        "from keras.layers import Dense,Flatten,Dropout,Conv2D,MaxPooling2D,Normalization,Input\n",
        "from keras.optimizers import Adam\n",
        "from keras import losses\n",
        "loss = losses\n",
        "batch_size = 64\n",
        "epochs = 20\n",
        "classes = 10"
      ],
      "metadata": {
        "id": "34poagTw7eJ2"
      },
      "execution_count": 6,
      "outputs": []
    },
    {
      "cell_type": "code",
      "source": [
        "from keras.layers import LeakyReLU\n",
        "model = Sequential()\n",
        "model.add(Conv2D(32, kernel_size = (3,3), activation = 'linear', input_shape=(28,28,1), padding= 'same'))\n",
        "model.add(LeakyReLU(alpha = 0.1))"
      ],
      "metadata": {
        "id": "1rtyIWl8-H2k"
      },
      "execution_count": 7,
      "outputs": []
    },
    {
      "cell_type": "code",
      "source": [
        "model.add(MaxPooling2D((2,2), padding = 'same'))\n",
        "model.add(Conv2D(64, (3,3), activation = 'linear', padding = 'same'))\n",
        "model.add(LeakyReLU(alpha = 0.1))\n",
        "\n",
        "model.add(MaxPooling2D((2,2), padding = 'same'))\n",
        "model.add(Conv2D(128, (3,3), activation = 'linear', padding = 'same'))\n",
        "model.add(LeakyReLU(alpha = 0.1))"
      ],
      "metadata": {
        "id": "fHTTkb0y-53d"
      },
      "execution_count": 8,
      "outputs": []
    },
    {
      "cell_type": "code",
      "source": [
        "#Đưa vào ANN, bộ ANN để phân loại:\n",
        "from keras.losses import categorical_crossentropy\n",
        "model.add(Flatten())\n",
        "model.add(Dense(128, activation = 'linear'))\n",
        "model.add(LeakyReLU(alpha = 0.1))\n",
        "model.add(Dense(classes, activation = 'softmax'))\n",
        "\n",
        "#Compile:\n",
        "model.compile( loss =loss.categorical_crossentropy ,optimizer= \"adam\", metrics= ['accuracy'])\n",
        "model.summary()\n",
        "train = model.fit(train_X, train_Y, batch_size= batch_size, epochs= epochs, verbose= 1)"
      ],
      "metadata": {
        "colab": {
          "base_uri": "https://localhost:8080/"
        },
        "id": "4NQOt-TuAUdK",
        "outputId": "00fac386-599d-48e6-e703-7bea6b0d9423"
      },
      "execution_count": 9,
      "outputs": [
        {
          "output_type": "stream",
          "name": "stdout",
          "text": [
            "Model: \"sequential\"\n",
            "_________________________________________________________________\n",
            " Layer (type)                Output Shape              Param #   \n",
            "=================================================================\n",
            " conv2d (Conv2D)             (None, 28, 28, 32)        320       \n",
            "                                                                 \n",
            " leaky_re_lu (LeakyReLU)     (None, 28, 28, 32)        0         \n",
            "                                                                 \n",
            " max_pooling2d (MaxPooling2D  (None, 14, 14, 32)       0         \n",
            " )                                                               \n",
            "                                                                 \n",
            " conv2d_1 (Conv2D)           (None, 14, 14, 64)        18496     \n",
            "                                                                 \n",
            " leaky_re_lu_1 (LeakyReLU)   (None, 14, 14, 64)        0         \n",
            "                                                                 \n",
            " max_pooling2d_1 (MaxPooling  (None, 7, 7, 64)         0         \n",
            " 2D)                                                             \n",
            "                                                                 \n",
            " conv2d_2 (Conv2D)           (None, 7, 7, 128)         73856     \n",
            "                                                                 \n",
            " leaky_re_lu_2 (LeakyReLU)   (None, 7, 7, 128)         0         \n",
            "                                                                 \n",
            " flatten (Flatten)           (None, 6272)              0         \n",
            "                                                                 \n",
            " dense (Dense)               (None, 128)               802944    \n",
            "                                                                 \n",
            " leaky_re_lu_3 (LeakyReLU)   (None, 128)               0         \n",
            "                                                                 \n",
            " dense_1 (Dense)             (None, 10)                1290      \n",
            "                                                                 \n",
            "=================================================================\n",
            "Total params: 896,906\n",
            "Trainable params: 896,906\n",
            "Non-trainable params: 0\n",
            "_________________________________________________________________\n",
            "Epoch 1/20\n",
            "938/938 [==============================] - 142s 149ms/step - loss: 0.4056 - accuracy: 0.8521\n",
            "Epoch 2/20\n",
            "938/938 [==============================] - 125s 133ms/step - loss: 0.2570 - accuracy: 0.9046\n",
            "Epoch 3/20\n",
            "938/938 [==============================] - 127s 136ms/step - loss: 0.2159 - accuracy: 0.9205\n",
            "Epoch 4/20\n",
            "938/938 [==============================] - 125s 133ms/step - loss: 0.1839 - accuracy: 0.9322\n",
            "Epoch 5/20\n",
            "938/938 [==============================] - 126s 134ms/step - loss: 0.1593 - accuracy: 0.9402\n",
            "Epoch 6/20\n",
            "938/938 [==============================] - 125s 133ms/step - loss: 0.1382 - accuracy: 0.9477\n",
            "Epoch 7/20\n",
            "938/938 [==============================] - 127s 136ms/step - loss: 0.1194 - accuracy: 0.9559\n",
            "Epoch 8/20\n",
            "938/938 [==============================] - 125s 133ms/step - loss: 0.0980 - accuracy: 0.9632\n",
            "Epoch 9/20\n",
            "938/938 [==============================] - 126s 134ms/step - loss: 0.0833 - accuracy: 0.9685\n",
            "Epoch 10/20\n",
            "938/938 [==============================] - 124s 132ms/step - loss: 0.0701 - accuracy: 0.9734\n",
            "Epoch 11/20\n",
            "938/938 [==============================] - 126s 134ms/step - loss: 0.0603 - accuracy: 0.9768\n",
            "Epoch 12/20\n",
            "938/938 [==============================] - 124s 133ms/step - loss: 0.0530 - accuracy: 0.9797\n",
            "Epoch 13/20\n",
            "938/938 [==============================] - 126s 135ms/step - loss: 0.0492 - accuracy: 0.9809\n",
            "Epoch 14/20\n",
            "938/938 [==============================] - 125s 133ms/step - loss: 0.0437 - accuracy: 0.9838\n",
            "Epoch 15/20\n",
            "938/938 [==============================] - 129s 137ms/step - loss: 0.0372 - accuracy: 0.9864\n",
            "Epoch 16/20\n",
            "938/938 [==============================] - 125s 133ms/step - loss: 0.0361 - accuracy: 0.9867\n",
            "Epoch 17/20\n",
            "938/938 [==============================] - 124s 132ms/step - loss: 0.0344 - accuracy: 0.9883\n",
            "Epoch 18/20\n",
            "938/938 [==============================] - 126s 134ms/step - loss: 0.0297 - accuracy: 0.9895\n",
            "Epoch 19/20\n",
            "938/938 [==============================] - 124s 133ms/step - loss: 0.0255 - accuracy: 0.9910\n",
            "Epoch 20/20\n",
            "938/938 [==============================] - 125s 133ms/step - loss: 0.0310 - accuracy: 0.9890\n"
          ]
        }
      ]
    },
    {
      "cell_type": "code",
      "source": [
        "eval = model.evaluate(test_X, test_Y, verbose=0)\n",
        "print('Test loss:', eval[0])\n",
        "print('Test accunacy', eval[1])\n",
        "accuracy = train.history['accuracy']\n",
        "loss = train.history['loss']\n",
        "epochs = range(len(accuracy))\n",
        "plt.plot(epochs, accuracy,'bo', label = 'Traning Accuracy')\n",
        "plt.plot(epochs, loss, 'b', label= 'Test Accuracy')\n",
        "plt.title('Training & Testing Accuracy')"
      ],
      "metadata": {
        "colab": {
          "base_uri": "https://localhost:8080/",
          "height": 504
        },
        "id": "hS-rOOTsCWzB",
        "outputId": "cf92d1e8-5c9f-43f4-803a-8b7d57f7f058"
      },
      "execution_count": 10,
      "outputs": [
        {
          "output_type": "stream",
          "name": "stdout",
          "text": [
            "Test loss: 0.4744240343570709\n",
            "Test accunacy 0.9217000007629395\n"
          ]
        },
        {
          "output_type": "execute_result",
          "data": {
            "text/plain": [
              "Text(0.5, 1.0, 'Training & Testing Accuracy')"
            ]
          },
          "metadata": {},
          "execution_count": 10
        },
        {
          "output_type": "display_data",
          "data": {
            "text/plain": [
              "<Figure size 640x480 with 1 Axes>"
            ],
            "image/png": "[encoded data removed]"
          },
          "metadata": {}
        }
      ]
    },
    {
      "cell_type": "code",
      "source": [],
      "metadata": {
        "id": "UJ_FQEPJQsdg"
      },
      "execution_count": null,
      "outputs": []
    }
  ]
}