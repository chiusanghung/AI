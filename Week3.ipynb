{
  "nbformat": 4,
  "nbformat_minor": 0,
  "metadata": {
    "colab": {
      "provenance": [],
      "authorship_tag": "ABX9TyO3OzziLUg1ZT708xvxlkRp",
      "include_colab_link": true
    },
    "kernelspec": {
      "name": "python3",
      "display_name": "Python 3"
    },
    "language_info": {
      "name": "python"
    }
  },
  "cells": [
    {
      "cell_type": "markdown",
      "metadata": {
        "id": "view-in-github",
        "colab_type": "text"
      },
      "source": [
        "<a href=\"https://colab.research.google.com/github/chiusanghung/AI_week_1/blob/main/AI_week_3.ipynb\" target=\"_parent\"><img src=\"https://colab.research.google.com/assets/colab-badge.svg\" alt=\"Open In Colab\"/></a>"
      ]
    },
    {
      "cell_type": "code",
      "execution_count": null,
      "metadata": {
        "id": "Tnq5jbEaVT8_"
      },
      "outputs": [],
      "source": [
        "value1 = input('Nhap vao so thu 1:')\n",
        "value2 = input('Nhap vao so thu 2:')\n",
        "value1 + value2\n",
        "value1 = int(value1)\n",
        "value2 = int(value2)\n"
      ]
    },
    {
      "cell_type": "code",
      "source": [
        "\n",
        "with open ('text.txt',mode='w') as accounts:\n",
        "  accounts.write('20146493 Nguyen Van A 10\\n')\n",
        "  accounts.write('20146493 Nguyen van B 6\\n')\n",
        "  accounts.write('20146493 Nguyen van C 8\\n')"
      ],
      "metadata": {
        "id": "oNKxZVBLXEcT"
      },
      "execution_count": 14,
      "outputs": []
    },
    {
      "cell_type": "code",
      "source": [
        "with open ('text1.txt',mode='w') as accounts:\n",
        "  print('20146493 Nguyen Van A',file = accounts)\n",
        "  print('20146493 Nguyen Van B',file = accounts)\n",
        "  print('20146493 Nguyen Van C',file = accounts)"
      ],
      "metadata": {
        "id": "ArCMd9cxX9yF"
      },
      "execution_count": 13,
      "outputs": []
    },
    {
      "cell_type": "code",
      "source": [
        "with open ('text.txt',mode = 'r') as accounts:\n",
        "  print(f'{'MSSV':<10}{'Name':<20}{'Score':>2}')\n",
        "  for record in accounts:\n",
        "    MSSV,Name,score = record.split()\n",
        "    print (f'{'MSSV:<10'}{'Name:<20'}{'Score':>2}') "
      ],
      "metadata": {
        "id": "sAgxBnviZtJJ"
      },
      "execution_count": null,
      "outputs": []
    },
    {
      "cell_type": "code",
      "source": [
        "import pandas as pd\n",
        "url ='Book1.csv'\n",
        "dataframe = pd.read_csv(url)\n",
        "dataframe.head(17)\n",
        "\n",
        "dataframe.iloc[:10]\n",
        "\n",
        "dataframe = dataframe.set_index(dataframe['Full Name'])\n",
        "dataframe.loc['Nguyen Van A']"
      ],
      "metadata": {
        "id": "CcNeHqhBZwLi"
      },
      "execution_count": null,
      "outputs": []
    },
    {
      "cell_type": "code",
      "source": [
        "import pandas as pd\n",
        "url ='Book1.csv'\n",
        "dataframe = pd.read_csv(url)\n",
        "dataframe.head(17)\n",
        "\n",
        "dataframe = dataframe.set_index(dataframe['HVT'])\n",
        "dataframe.loc['Nguyen Van A']\n"
      ],
      "metadata": {
        "id": "I_E-MubliwFB"
      },
      "execution_count": null,
      "outputs": []
    },
    {
      "cell_type": "code",
      "source": [
        "import pandas as pd\n",
        "url ='Book1.csv'\n",
        "dataframe = pd.read_csv(url)\n",
        "dataframe.head(17)\n",
        "\n",
        "dataframe [dataframe['Khoa'] == 'CKM'].head(10)"
      ],
      "metadata": {
        "id": "kkI9UdjujVuz"
      },
      "execution_count": null,
      "outputs": []
    },
    {
      "cell_type": "code",
      "source": [
        "import pandas as pd\n",
        "url ='Book1.csv'\n",
        "dataframe = pd.read_csv(url)\n",
        "dataframe.head(17)\n",
        "\n",
        "dataframe[(dataframe['Khoa'] == 'CKM')&(dataframe['HVT'] == 'Nguyen Quoc An')]"
      ],
      "metadata": {
        "id": "CkuxSyURj40t"
      },
      "execution_count": null,
      "outputs": []
    },
    {
      "cell_type": "code",
      "source": [
        "import pandas as pd\n",
        "url ='Book1.csv'\n",
        "dataframe = pd.read_csv(url)\n",
        "dataframe.head(17)\n",
        "\n",
        "dataframe['Khoa'].replace('CKM','Co Khi May').head(10)"
      ],
      "metadata": {
        "id": "g5kWUbfpmNc5"
      },
      "execution_count": null,
      "outputs": []
    },
    {
      "cell_type": "code",
      "source": [
        "import pandas as pd\n",
        "url ='Book1.csv'\n",
        "dataframe = pd.read_csv(url)\n",
        "dataframe.head(17)\n",
        "\n",
        "dataframe.replace('CKM','Co Khi May').head(10)"
      ],
      "metadata": {
        "id": "HFQTMOe_mpHJ"
      },
      "execution_count": null,
      "outputs": []
    },
    {
      "cell_type": "code",
      "source": [
        "import pandas as pd\n",
        "url ='Book1.csv'\n",
        "dataframe = pd.read_csv(url)\n",
        "dataframe.head(17)\n",
        "\n",
        "print('Diem cao nhat', dataframe['Diem'].max())\n",
        "print('Diem cao nhat', dataframe['Diem'].min())\n",
        "print('Diem trung binh', dataframe['Diem'].mean())\n",
        "print('Diem tong', dataframe['Diem'].sum())\n",
        "print('Nguoi', dataframe['Diem'].count())"
      ],
      "metadata": {
        "id": "5XqFR4Iym6ls"
      },
      "execution_count": null,
      "outputs": []
    },
    {
      "cell_type": "code",
      "source": [
        "import pandas as pd\n",
        "url ='Book1.csv'\n",
        "dataframe = pd.read_csv(url)\n",
        "dataframe.head(17)\n",
        "\n",
        "dataframe['Khoa'].unique()"
      ],
      "metadata": {
        "id": "skk_G7_Snsd-"
      },
      "execution_count": null,
      "outputs": []
    },
    {
      "cell_type": "code",
      "source": [
        "import pandas as pd\n",
        "url ='Book1.csv'\n",
        "dataframe = pd.read_csv(url)\n",
        "dataframe.head(17)\n",
        "\n",
        "dataframe['Khoa'].value_counts()"
      ],
      "metadata": {
        "id": "nOu_qyyYoHpD"
      },
      "execution_count": null,
      "outputs": []
    },
    {
      "cell_type": "code",
      "source": [
        "import pandas as pd\n",
        "url ='Book1.csv'\n",
        "dataframe = pd.read_csv(url)\n",
        "dataframe.head(17)\n",
        "\n",
        "dataframe.drop('MSSV',axis=1).head(10)"
      ],
      "metadata": {
        "id": "ZFWP1C51oXWE"
      },
      "execution_count": null,
      "outputs": []
    },
    {
      "cell_type": "code",
      "source": [
        "import pandas as pd\n",
        "url ='Book1.csv'\n",
        "dataframe = pd.read_csv(url)\n",
        "dataframe.head(17)\n",
        "\n",
        "dataframe.drop(['MSSV','Khoa'],axis=1).head(10)"
      ],
      "metadata": {
        "id": "rDEjzhMbpUX9"
      },
      "execution_count": null,
      "outputs": []
    },
    {
      "cell_type": "code",
      "source": [
        "import pandas as pd\n",
        "url ='Book1.csv'\n",
        "dataframe = pd.read_csv(url)\n",
        "dataframe.head(17)\n",
        "\n",
        "dataframe.drop(dataframe.columns[2:4],axis=1).head(10)"
      ],
      "metadata": {
        "id": "UO9eUqOQpwAh"
      },
      "execution_count": null,
      "outputs": []
    },
    {
      "cell_type": "code",
      "source": [
        "import pandas as pd\n",
        "url ='Book1.csv'\n",
        "dataframe = pd.read_csv(url)\n",
        "dataframe.head(17)\n",
        "\n",
        "dataframe[dataframe['Khoa']!='DDT'].head(10)"
      ],
      "metadata": {
        "id": "wYje9nYCqGQZ"
      },
      "execution_count": null,
      "outputs": []
    },
    {
      "cell_type": "code",
      "source": [
        "import pandas as pd\n",
        "url ='Book1.csv'\n",
        "dataframe = pd.read_csv(url)\n",
        "dataframe.head(17)\n",
        "\n",
        "dataframe[dataframe['Diem']!=8].head(10)"
      ],
      "metadata": {
        "id": "pf_efs3yqcrq"
      },
      "execution_count": null,
      "outputs": []
    },
    {
      "cell_type": "code",
      "source": [
        "import pandas as pd\n",
        "url ='Book1.csv'\n",
        "dataframe = pd.read_csv(url)\n",
        "dataframe.head(17)\n",
        "\n",
        "dataframe[dataframe.index!=8].head(10)"
      ],
      "metadata": {
        "id": "BeZ3h3r6q7pc"
      },
      "execution_count": null,
      "outputs": []
    },
    {
      "cell_type": "code",
      "source": [
        "import pandas as pd\n",
        "url ='Book1.csv'\n",
        "dataframe = pd.read_csv(url)\n",
        "dataframe.head(17)\n",
        "\n",
        "dataframe.drop_duplicates().head(10)"
      ],
      "metadata": {
        "id": "xFnlv42-rK2L"
      },
      "execution_count": null,
      "outputs": []
    },
    {
      "cell_type": "code",
      "source": [
        "import pandas as pd\n",
        "url ='Book1.csv'\n",
        "dataframe = pd.read_csv(url)\n",
        "dataframe.head(17)\n",
        "\n",
        "dataframe.groupby('Khoa').count()"
      ],
      "metadata": {
        "id": "4kzn-AghraCi"
      },
      "execution_count": null,
      "outputs": []
    },
    {
      "cell_type": "code",
      "source": [
        "import pandas as pd\n",
        "url ='Book1.csv'\n",
        "dataframe = pd.read_csv(url)\n",
        "dataframe.head(17)\n",
        "\n",
        "dataframe.groupby(['Khoa','Diem']).count()"
      ],
      "metadata": {
        "id": "auFQCA1vruHM"
      },
      "execution_count": null,
      "outputs": []
    },
    {
      "cell_type": "code",
      "source": [
        "import pandas as pd\n",
        "url ='Book1.csv'\n",
        "dataframe = pd.read_csv(url)\n",
        "dataframe.head(17)\n",
        "\n",
        "dataframe.groupby('Khoa')['Diem'].count()"
      ],
      "metadata": {
        "id": "7m6snA1osCWP"
      },
      "execution_count": null,
      "outputs": []
    },
    {
      "cell_type": "code",
      "source": [
        "import pandas as pd\n",
        "import numpy as np\n",
        "\n",
        "time_index = pd.date_range('01/01/2023',periods = 100000,freq = '30s')\n",
        "dataframe = pd.DataFrame(index = time_index)\n",
        "dataframe ['Acess_Amount'] = np.random.randint(1,10,100000)\n",
        "\n",
        "dataframe.resample('W').sum()\n"
      ],
      "metadata": {
        "id": "zlAbD0ZAsjq7"
      },
      "execution_count": null,
      "outputs": []
    },
    {
      "cell_type": "code",
      "source": [
        "import pandas as pd\n",
        "import numpy as np\n",
        "time_index = pd.date_range('01/01/2023',periods = 100000,freq = '30s')\n",
        "dataframe = pd.DataFrame(index = time_index)\n",
        "dataframe ['Acess_Amount'] = np.random.randint(1,10,100000)\n",
        "\n",
        "dataframe.resumple('2W').mean()"
      ],
      "metadata": {
        "id": "9PZ5v9QtznF2"
      },
      "execution_count": null,
      "outputs": []
    },
    {
      "cell_type": "code",
      "source": [
        "import pandas as pd\n",
        "url='http://winterolympicsmedals.com/medals.csv'\n",
        "data = pd.read_csv(url)\n",
        "data\n",
        "\n",
        "\n"
      ],
      "metadata": {
        "id": "HdWJI3dq0Aub"
      },
      "execution_count": null,
      "outputs": []
    },
    {
      "cell_type": "code",
      "source": [
        "import pandas as pd\n",
        "url='http://winterolympicsmedals.com/medals.csv'\n",
        "data = pd.read_csv(url)\n",
        "data\n",
        "\n",
        "data['NOC'].value_counts()"
      ],
      "metadata": {
        "id": "WoW0UBOA3uxC"
      },
      "execution_count": null,
      "outputs": []
    },
    {
      "cell_type": "code",
      "source": [
        "import pandas as pd\n",
        "url='http://winterolympicsmedals.com/medals.csv'\n",
        "data = pd.read_csv(url)\n",
        "data\n",
        "\n",
        "data[data['Medal'] == 'Gold'].value_counts()"
      ],
      "metadata": {
        "id": "zyq2KUlb4KUz"
      },
      "execution_count": null,
      "outputs": []
    },
    {
      "cell_type": "code",
      "source": [
        "import pandas as pd\n",
        "url='http://winterolympicsmedals.com/medals.csv'\n",
        "data = pd.read_csv(url)\n",
        "data\n",
        "\n",
        "data['NOC'].value_counts().mean()"
      ],
      "metadata": {
        "colab": {
          "base_uri": "https://localhost:8080/"
        },
        "id": "IwbYIL7z5nuU",
        "outputId": "3138d88b-ab57-4687-ea98-5d576e5f4898"
      },
      "execution_count": 153,
      "outputs": [
        {
          "output_type": "execute_result",
          "data": {
            "text/plain": [
              "51.355555555555554"
            ]
          },
          "metadata": {},
          "execution_count": 153
        }
      ]
    }
  ]
}
