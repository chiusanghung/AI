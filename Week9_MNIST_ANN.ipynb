{
  "nbformat": 4,
  "nbformat_minor": 0,
  "metadata": {
    "colab": {
      "provenance": [],
      "authorship_tag": "ABX9TyNxw0dy2BHgJ5opjmkXGxDR",
      "include_colab_link": true
    },
    "kernelspec": {
      "name": "python3",
      "display_name": "Python 3"
    },
    "language_info": {
      "name": "python"
    }
  },
  "cells": [
    {
      "cell_type": "markdown",
      "metadata": {
        "id": "view-in-github",
        "colab_type": "text"
      },
      "source": [
        "<a href=\"https://colab.research.google.com/github/chiusanghung/AI/blob/main/Week9_MNIST_ANN.ipynb\" target=\"_parent\"><img src=\"https://colab.research.google.com/assets/colab-badge.svg\" alt=\"Open In Colab\"/></a>"
      ]
    },
    {
      "cell_type": "code",
      "execution_count": 108,
      "metadata": {
        "colab": {
          "base_uri": "https://localhost:8080/"
        },
        "id": "T4P6AP7lzh77",
        "outputId": "3850e3c8-b182-4091-a799-e28b5d04ccab"
      },
      "outputs": [
        {
          "output_type": "execute_result",
          "data": {
            "text/plain": [
              "(10000, 28, 28)"
            ]
          },
          "metadata": {},
          "execution_count": 108
        }
      ],
      "source": [
        "from keras.datasets import mnist\n",
        "(train_images, train_labels),(test_images, test_labels) = mnist.load_data()\n",
        "train_images.shape\n",
        "test_images.shape"
      ]
    },
    {
      "cell_type": "code",
      "source": [
        "import matplotlib.pyplot as plt\n",
        "hinh = train_images[100]\n",
        "plt.imshow(hinh, cmap = plt.cm.binary)\n",
        "plt.show\n",
        "print('So nay la: ', train_labels[100])"
      ],
      "metadata": {
        "colab": {
          "base_uri": "https://localhost:8080/",
          "height": 282
        },
        "id": "p7Wos4RM03hs",
        "outputId": "556a97ed-ab0d-4523-8157-c7837ad872ed"
      },
      "execution_count": 14,
      "outputs": [
        {
          "output_type": "stream",
          "name": "stdout",
          "text": [
            "So nay la:  5\n"
          ]
        },
        {
          "output_type": "display_data",
          "data": {
            "text/plain": [
              "<Figure size 432x288 with 1 Axes>"
            ],
            "image/png": "[encoded data removed]"
          },
          "metadata": {
            "needs_background": "light"
          }
        }
      ]
    },
    {
      "cell_type": "code",
      "source": [
        "for i in range(10):\n",
        "  plt.subplot(3,5,i+1)\n",
        "  plt.tight_layout()\n",
        "  plt.imshow(train_images[i], cmap = 'gray', interpolation='none')\n",
        "  plt.title('So: {}'.format(train_labels[i]))\n",
        "  plt.xticks([])\n",
        "  plt.yticks([])"
      ],
      "metadata": {
        "colab": {
          "base_uri": "https://localhost:8080/",
          "height": 196
        },
        "id": "8HrFBRYn1bd7",
        "outputId": "11217e91-1a67-42b8-a119-83f03551a1ba"
      },
      "execution_count": 12,
      "outputs": [
        {
          "output_type": "display_data",
          "data": {
            "text/plain": [
              "<Figure size 432x288 with 10 Axes>"
            ],
            "image/png": "[encoded data removed]"
          },
          "metadata": {}
        }
      ]
    },
    {
      "cell_type": "code",
      "source": [
        "from keras.models import Sequential\n",
        "from keras.layers import Dense\n",
        "\n",
        "# create a sequential model\n",
        "model = Sequential()\n",
        "\n",
        "# add a dense layer with 512 units, input shape (28, 28), and relu activation function\n",
        "model.add(Dense(512, input_shape=(28,28), activation='relu'))\n",
        "\n",
        "# add another dense layer with 10 units and softmax activation function\n",
        "model.add(Dense(10, activation='softmax'))\n",
        "\n",
        "# print model summary\n",
        "model.summary()"
      ],
      "metadata": {
        "colab": {
          "base_uri": "https://localhost:8080/"
        },
        "id": "5mXwF34m7qhg",
        "outputId": "4db8126b-d05a-4000-85a0-f289f120cc85"
      },
      "execution_count": 56,
      "outputs": [
        {
          "output_type": "stream",
          "name": "stdout",
          "text": [
            "Model: \"sequential_5\"\n",
            "_________________________________________________________________\n",
            " Layer (type)                Output Shape              Param #   \n",
            "=================================================================\n",
            " dense_7 (Dense)             (None, 28, 512)           14848     \n",
            "                                                                 \n",
            " dense_8 (Dense)             (None, 28, 10)            5130      \n",
            "                                                                 \n",
            "=================================================================\n",
            "Total params: 19,978\n",
            "Trainable params: 19,978\n",
            "Non-trainable params: 0\n",
            "_________________________________________________________________\n"
          ]
        }
      ]
    },
    {
      "cell_type": "code",
      "source": [
        "train_images = train_images.reshape((60000,28*28))  # Định dạng ảnh 2 chiều -> 1 chiều\n",
        "train_images = train_images.astype('float32')/255   # Chuyển đổi số nguyên sang số thực\n",
        "\n",
        "test_images = test_images.reshape((10000,28*28))\n",
        "test_images = test_images.astype('float32')/255"
      ],
      "metadata": {
        "id": "r_73dSdK-Scz"
      },
      "execution_count": 57,
      "outputs": []
    },
    {
      "cell_type": "code",
      "source": [
        "from keras.utils import to_categorical\n",
        "train_labels = to_categorical(train_labels,10)\n",
        "test_labels = to_categorical(test_labels,10)"
      ],
      "metadata": {
        "id": "DE6z4T6p6FV4"
      },
      "execution_count": 62,
      "outputs": []
    },
    {
      "cell_type": "code",
      "source": [
        "# compile the model\n",
        "model.compile(optimizer='rmsprop', loss='categorical_crossentropy', metrics=['accuracy'])\n",
        "\n",
        "# train the model\n",
        "model.fit(train_images, train_labels, epochs=10, batch_size=128)\n",
        "\n",
        "# evaluate the model\n",
        "test_loss, test_acc = model.evaluate(test_images.reshape((10000, 784)), test_labels)\n",
        "print('test accuracy:', test_acc)\n",
        "print('test loss:', test_loss)\n"
      ],
      "metadata": {
        "colab": {
          "base_uri": "https://localhost:8080/"
        },
        "id": "d2qoJf1wB-xu",
        "outputId": "011c593d-ee16-4558-f13d-430ccfed7c0a"
      },
      "execution_count": 67,
      "outputs": [
        {
          "output_type": "stream",
          "name": "stdout",
          "text": [
            "Epoch 1/10\n",
            "469/469 [==============================] - 4s 9ms/step - loss: 2.9189e-04 - accuracy: 1.0000\n",
            "Epoch 2/10\n",
            "469/469 [==============================] - 5s 11ms/step - loss: 2.6066e-04 - accuracy: 1.0000\n",
            "Epoch 3/10\n",
            "469/469 [==============================] - 5s 11ms/step - loss: 2.3462e-04 - accuracy: 1.0000\n",
            "Epoch 4/10\n",
            "469/469 [==============================] - 5s 12ms/step - loss: 2.1522e-04 - accuracy: 1.0000\n",
            "Epoch 5/10\n",
            "469/469 [==============================] - 5s 11ms/step - loss: 2.0099e-04 - accuracy: 1.0000\n",
            "Epoch 6/10\n",
            "469/469 [==============================] - 5s 10ms/step - loss: 1.8594e-04 - accuracy: 1.0000\n",
            "Epoch 7/10\n",
            "469/469 [==============================] - 3s 7ms/step - loss: 1.7517e-04 - accuracy: 1.0000\n",
            "Epoch 8/10\n",
            "469/469 [==============================] - 4s 8ms/step - loss: 1.6414e-04 - accuracy: 1.0000\n",
            "Epoch 9/10\n",
            "469/469 [==============================] - 4s 9ms/step - loss: 1.5479e-04 - accuracy: 1.0000\n",
            "Epoch 10/10\n",
            "469/469 [==============================] - 3s 7ms/step - loss: 1.4643e-04 - accuracy: 1.0000\n",
            "313/313 [==============================] - 1s 4ms/step - loss: 16.8479 - accuracy: 0.9835\n",
            "test accuracy: 0.9835000038146973\n",
            "test loss: 16.847867965698242\n"
          ]
        }
      ]
    },
    {
      "cell_type": "code",
      "source": [
        "model.save('model1.hs')\n",
        "#model11 = load.model('model1.hs')\n",
        "\n",
        "#label1 = model11.predict(test_images[10])"
      ],
      "metadata": {
        "id": "7TU6G4mJC7aj"
      },
      "execution_count": null,
      "outputs": []
    },
    {
      "cell_type": "code",
      "source": [
        "# Cifar10\n",
        "from keras.datasets import cifar10\n",
        "from keras.utils import to_categorical\n",
        "from keras.models import Sequential\n",
        "from keras.layers import Dense\n",
        "\n",
        "# load data\n",
        "(x_train, y_train), (x_test, y_test) = cifar10.load_data()\n",
        "x_train.shape\n",
        "x_test.shape"
      ],
      "metadata": {
        "colab": {
          "base_uri": "https://localhost:8080/"
        },
        "id": "H9LTM_PMF_uD",
        "outputId": "7cfcca51-7cd7-430d-dda4-e486aa2e89ae"
      },
      "execution_count": 87,
      "outputs": [
        {
          "output_type": "execute_result",
          "data": {
            "text/plain": [
              "(10000, 32, 32, 3)"
            ]
          },
          "metadata": {},
          "execution_count": 87
        }
      ]
    },
    {
      "cell_type": "code",
      "source": [
        "import matplotlib.pyplot as plt\n",
        "hinh = x_train[5]\n",
        "plt.imshow(hinh, cmap = plt.cm.binary)\n",
        "plt.show\n",
        "print('Hinh', y_train[5])"
      ],
      "metadata": {
        "colab": {
          "base_uri": "https://localhost:8080/",
          "height": 283
        },
        "id": "FG7vIagmD9Q-",
        "outputId": "e4d5eb35-8af5-48f5-e415-6870d7c7dd34"
      },
      "execution_count": 93,
      "outputs": [
        {
          "output_type": "stream",
          "name": "stdout",
          "text": [
            "Hinh [1]\n"
          ]
        },
        {
          "output_type": "display_data",
          "data": {
            "text/plain": [
              "<Figure size 432x288 with 1 Axes>"
            ],
            "image/png": "[encoded data removed]"
          },
          "metadata": {
            "needs_background": "light"
          }
        }
      ]
    },
    {
      "cell_type": "code",
      "source": [
        "from keras.datasets import cifar10\n",
        "from keras.utils import to_categorical\n",
        "import matplotlib.pyplot as plt\n",
        "\n",
        "# load the cifar10 dataset\n",
        "(train_images, train_labels), (test_images, test_labels) = cifar10.load_data()\n",
        "\n",
        "# display an image from the dataset\n",
        "plt.imshow(train_images[50])\n",
        "plt.show()\n",
        "print('This image is:', train_labels[50])"
      ],
      "metadata": {
        "colab": {
          "base_uri": "https://localhost:8080/",
          "height": 283
        },
        "id": "kK0MZuH_O43q",
        "outputId": "131f109c-4dfd-47f2-fd21-dec7aa8bbafc"
      },
      "execution_count": 5,
      "outputs": [
        {
          "output_type": "display_data",
          "data": {
            "text/plain": [
              "<Figure size 432x288 with 1 Axes>"
            ],
            "image/png": "[encoded data removed]"
          },
          "metadata": {
            "needs_background": "light"
          }
        },
        {
          "output_type": "stream",
          "name": "stdout",
          "text": [
            "This image is: [9]\n"
          ]
        }
      ]
    },
    {
      "cell_type": "code",
      "source": [
        "for i in range(10):\n",
        "  plt.subplot(3,5,i+1)\n",
        "  plt.tight_layout()\n",
        "  plt.imshow(train_images[i], cmap = 'gray', interpolation='none')\n",
        "  plt.title('So: {}'.format(train_labels[i]))\n",
        "  plt.xticks([])\n",
        "  plt.yticks([])"
      ],
      "metadata": {
        "colab": {
          "base_uri": "https://localhost:8080/",
          "height": 196
        },
        "id": "WoO53UeTHNhq",
        "outputId": "e680b519-e02a-47a0-8340-35b202d5f989"
      },
      "execution_count": 11,
      "outputs": [
        {
          "output_type": "display_data",
          "data": {
            "text/plain": [
              "<Figure size 432x288 with 10 Axes>"
            ],
            "image/png": "[encoded data removed]"
          },
          "metadata": {}
        }
      ]
    },
    {
      "cell_type": "code",
      "source": [
        "# preprocess the data\n",
        "train_images = train_images.reshape((50000, 32 * 32 * 3))\n",
        "train_images = train_images.astype('float32') / 255\n",
        "\n",
        "test_images = test_images.reshape((10000, 32 * 32 * 3))\n",
        "test_images = test_images.astype('float32') / 255\n",
        "\n",
        "train_labels = to_categorical(train_labels, 10)\n",
        "test_labels = to_categorical(test_labels, 10)"
      ],
      "metadata": {
        "id": "190zweRpPwHh"
      },
      "execution_count": 16,
      "outputs": []
    },
    {
      "cell_type": "code",
      "source": [
        "# add a virtual layer to the input shape\n",
        "from keras.models import Sequential\n",
        "from keras.layers import Dense\n",
        "\n",
        "model = Sequential()\n",
        "model.add(Dense(512, input_shape=(32*32*3,), activation='relu'))\n",
        "model.add(Dense(10, activation='softmax'))\n",
        "\n",
        "model.summary()"
      ],
      "metadata": {
        "colab": {
          "base_uri": "https://localhost:8080/"
        },
        "id": "1dtXOAiNIc8K",
        "outputId": "2a135bb1-bfd7-4d1e-af46-e8d27a7cc517"
      },
      "execution_count": 17,
      "outputs": [
        {
          "output_type": "stream",
          "name": "stdout",
          "text": [
            "Model: \"sequential_2\"\n",
            "_________________________________________________________________\n",
            " Layer (type)                Output Shape              Param #   \n",
            "=================================================================\n",
            " dense_4 (Dense)             (None, 512)               1573376   \n",
            "                                                                 \n",
            " dense_5 (Dense)             (None, 10)                5130      \n",
            "                                                                 \n",
            "=================================================================\n",
            "Total params: 1,578,506\n",
            "Trainable params: 1,578,506\n",
            "Non-trainable params: 0\n",
            "_________________________________________________________________\n"
          ]
        }
      ]
    },
    {
      "cell_type": "code",
      "source": [
        "# compile the model\n",
        "model.compile(optimizer='rmsprop', loss='categorical_crossentropy', metrics=['accuracy'])\n",
        "\n",
        "# train the model\n",
        "model.fit(train_images, train_labels, epochs=10, batch_size=128)\n",
        "\n",
        "# evaluate the model\n",
        "test_loss, test_acc = model.evaluate(test_images, test_labels)\n",
        "print('test accuracy:', test_acc)\n",
        "print('test loss:', test_loss)"
      ],
      "metadata": {
        "colab": {
          "base_uri": "https://localhost:8080/"
        },
        "id": "lK1QCrHINof-",
        "outputId": "4b2f46ff-975f-4319-ef25-36d3cf1e3db9"
      },
      "execution_count": 18,
      "outputs": [
        {
          "output_type": "stream",
          "name": "stdout",
          "text": [
            "Epoch 1/10\n",
            "391/391 [==============================] - 9s 21ms/step - loss: 2.2310 - accuracy: 0.2629\n",
            "Epoch 2/10\n",
            "391/391 [==============================] - 9s 22ms/step - loss: 1.7989 - accuracy: 0.3567\n",
            "Epoch 3/10\n",
            "391/391 [==============================] - 9s 22ms/step - loss: 1.7174 - accuracy: 0.3875\n",
            "Epoch 4/10\n",
            "391/391 [==============================] - 9s 23ms/step - loss: 1.6564 - accuracy: 0.4094\n",
            "Epoch 5/10\n",
            "391/391 [==============================] - 9s 23ms/step - loss: 1.6178 - accuracy: 0.4253\n",
            "Epoch 6/10\n",
            "391/391 [==============================] - 9s 22ms/step - loss: 1.5840 - accuracy: 0.4382\n",
            "Epoch 7/10\n",
            "391/391 [==============================] - 9s 22ms/step - loss: 1.5561 - accuracy: 0.4470\n",
            "Epoch 8/10\n",
            "391/391 [==============================] - 8s 21ms/step - loss: 1.5343 - accuracy: 0.4584\n",
            "Epoch 9/10\n",
            "391/391 [==============================] - 8s 21ms/step - loss: 1.5043 - accuracy: 0.4679\n",
            "Epoch 10/10\n",
            "391/391 [==============================] - 9s 23ms/step - loss: 1.4939 - accuracy: 0.4716\n",
            "313/313 [==============================] - 2s 4ms/step - loss: 1.5244 - accuracy: 0.4595\n",
            "test accuracy: 0.4595000147819519\n",
            "test loss: 1.5244159698486328\n"
          ]
        }
      ]
    }
  ]
}