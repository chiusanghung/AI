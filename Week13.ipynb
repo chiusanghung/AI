{
  "nbformat": 4,
  "nbformat_minor": 0,
  "metadata": {
    "colab": {
      "provenance": [],
      "mount_file_id": "1SRNKctROFpNmuERgElydZNvurAktvvc6",
      "authorship_tag": "ABX9TyP1eEY0B/Z+pdZrQ6sJEFBC",
      "include_colab_link": true
    },
    "kernelspec": {
      "name": "python3",
      "display_name": "Python 3"
    },
    "language_info": {
      "name": "python"
    }
  },
  "cells": [
    {
      "cell_type": "markdown",
      "metadata": {
        "id": "view-in-github",
        "colab_type": "text"
      },
      "source": [
        "<a href=\"https://colab.research.google.com/github/chiusanghung/AI/blob/main/Week13.ipynb\" target=\"_parent\"><img src=\"https://colab.research.google.com/assets/colab-badge.svg\" alt=\"Open In Colab\"/></a>"
      ]
    },
    {
      "cell_type": "code",
      "execution_count": null,
      "metadata": {
        "id": "M8wNGask3-Kt"
      },
      "outputs": [],
      "source": [
        "pip install youtube-search"
      ]
    },
    {
      "cell_type": "code",
      "source": [
        "from youtube_search import YoutubeSearch\n",
        "import webbrowser"
      ],
      "metadata": {
        "id": "IjwKwn-r5EgO"
      },
      "execution_count": 3,
      "outputs": []
    },
    {
      "cell_type": "code",
      "source": [
        "mysong = input ('Nhap ten bai hat: ')\n",
        "result = YoutubeSearch(mysong, max_results=10).to_dict()\n",
        "print(result)"
      ],
      "metadata": {
        "colab": {
          "base_uri": "https://localhost:8080/"
        },
        "id": "v66Un3AN5cH5",
        "outputId": "6cb3ea4f-7d0c-4db8-973b-073f922b6cc5"
      },
      "execution_count": 5,
      "outputs": [
        {
          "output_type": "stream",
          "name": "stdout",
          "text": [
            "Nhap ten bai hat: despacito\n",
            "[{'id': 'kJQP7kiw5Fk', 'thumbnails': ['https://i.ytimg.com/vi/kJQP7kiw5Fk/hq720.jpg?sqp=-oaymwEjCOgCEMoBSFryq4qpAxUIARUAAAAAGAElAADIQj0AgKJDeAE=&rs=AOn4CLCj96Jh8NkTqgJqkcXFQKo7MnO30g', 'https://i.ytimg.com/vi/kJQP7kiw5Fk/hq720.jpg?sqp=-oaymwEXCNAFEJQDSFryq4qpAwkIARUAAIhCGAE=&rs=AOn4CLBH3EhyCr_aZDODXzXVDL-taforQw'], 'title': 'Luis Fonsi - Despacito ft. Daddy Yankee', 'long_desc': None, 'channel': 'Luis Fonsi', 'duration': '4:42', 'views': '8,137,851,258 views', 'publish_time': '6 years ago', 'url_suffix': '/watch?v=kJQP7kiw5Fk&pp=ygUJZGVzcGFjaXRv'}, {'id': 'gm3-m2CFVWM', 'thumbnails': ['https://i.ytimg.com/vi/gm3-m2CFVWM/hq720.jpg?sqp=-oaymwEjCOgCEMoBSFryq4qpAxUIARUAAAAAGAElAADIQj0AgKJDeAE=&rs=AOn4CLA7gwdGhun32DEYKDskbUGGA0BuQQ', 'https://i.ytimg.com/vi/gm3-m2CFVWM/hq720.jpg?sqp=-oaymwEXCNAFEJQDSFryq4qpAwkIARUAAIhCGAE=&rs=AOn4CLAqCpaf17QOuwQXDh6Tuy5u-H44fg'], 'title': 'Luis Fonsi ‒ Despacito (Lyrics / Lyric Video) ft. Daddy Yankee', 'long_desc': None, 'channel': 'Taz Network', 'duration': '4:01', 'views': '32,194,767 views', 'publish_time': '5 years ago', 'url_suffix': '/watch?v=gm3-m2CFVWM&pp=ygUJZGVzcGFjaXRv'}, {'id': '-bCoFRsKpww', 'thumbnails': ['https://i.ytimg.com/vi/-bCoFRsKpww/hq720.jpg?sqp=-oaymwEjCOgCEMoBSFryq4qpAxUIARUAAAAAGAElAADIQj0AgKJDeAE=&rs=AOn4CLDMirQgPq4KITbz2qmQMasXnNsLTA', 'https://i.ytimg.com/vi/-bCoFRsKpww/hq720.jpg?sqp=-oaymwEXCNAFEJQDSFryq4qpAwkIARUAAIhCGAE=&rs=AOn4CLB9Tq8hLhqFwjg-HH3Nn9GD_vJqZg'], 'title': 'Erika Ender & Roberto Carlos - Despacito (En Vivo)', 'long_desc': None, 'channel': 'Erika Ender', 'duration': '4:48', 'views': '82,764,262 views', 'publish_time': '5 years ago', 'url_suffix': '/watch?v=-bCoFRsKpww&pp=ygUJZGVzcGFjaXRv'}, {'id': 'rGnt4lIUZIc', 'thumbnails': ['https://i.ytimg.com/vi/rGnt4lIUZIc/hq720.jpg?sqp=-oaymwEjCOgCEMoBSFryq4qpAxUIARUAAAAAGAElAADIQj0AgKJDeAE=&rs=AOn4CLB8MfCIYKO5sAnTF0tH3WzpoYTl4w', 'https://i.ytimg.com/vi/rGnt4lIUZIc/hq720.jpg?sqp=-oaymwEXCNAFEJQDSFryq4qpAwkIARUAAIhCGAE=&rs=AOn4CLBFfNB5KWhddm3JWC6LF30mKmS7pA'], 'title': 'Luis Fonsi feat. Daddy Yankee - Despacito (Official Video HD)', 'long_desc': None, 'channel': 'Pooja Thakur', 'duration': '5:30', 'views': '117,557 views', 'publish_time': '1 month ago', 'url_suffix': '/watch?v=rGnt4lIUZIc&pp=ygUJZGVzcGFjaXRv'}, {'id': 'TfkP5ubz1z4', 'thumbnails': ['https://i.ytimg.com/vi/TfkP5ubz1z4/hq720.jpg?sqp=-oaymwEjCOgCEMoBSFryq4qpAxUIARUAAAAAGAElAADIQj0AgKJDeAE=&rs=AOn4CLC9x3uO8o5lr0MSoqWdjhAfSJYHzQ', 'https://i.ytimg.com/vi/TfkP5ubz1z4/hq720.jpg?sqp=-oaymwEXCNAFEJQDSFryq4qpAwkIARUAAIhCGAE=&rs=AOn4CLACKWEvkQvv39DSU30GNJaGKuDKdg'], 'title': 'Justin Bieber - Despacito (Lyrics / Letra) ft. Luis Fonsi & Daddy Yankee', 'long_desc': None, 'channel': '7clouds', 'duration': '3:51', 'views': '39,881,265 views', 'publish_time': '3 years ago', 'url_suffix': '/watch?v=TfkP5ubz1z4&pp=ygUJZGVzcGFjaXRv'}, {'id': 'whwe0KD_rGw', 'thumbnails': ['https://i.ytimg.com/vi/whwe0KD_rGw/hq720.jpg?sqp=-oaymwEjCOgCEMoBSFryq4qpAxUIARUAAAAAGAElAADIQj0AgKJDeAE=&rs=AOn4CLCEk39Ta5je1hL46hox-cVPoZR1xw', 'https://i.ytimg.com/vi/whwe0KD_rGw/hq720.jpg?sqp=-oaymwEXCNAFEJQDSFryq4qpAwkIARUAAIhCGAE=&rs=AOn4CLCQQJ7FBOEUgk2XYR-5xlQkELUYWQ'], 'title': 'Justin Bieber – Despacito (Lyrics) 🎤 ft. Luis Fonsi & Daddy Yankee [Pop]', 'long_desc': None, 'channel': 'Taz Network', 'duration': '3:51', 'views': '354,638,335 views', 'publish_time': '6 years ago', 'url_suffix': '/watch?v=whwe0KD_rGw&pp=ygUJZGVzcGFjaXRv'}, {'id': '72UO0v5ESUo', 'thumbnails': ['https://i.ytimg.com/vi/72UO0v5ESUo/hq720.jpg?sqp=-oaymwEjCOgCEMoBSFryq4qpAxUIARUAAAAAGAElAADIQj0AgKJDeAE=&rs=AOn4CLAlMae3vp7k5FvrVlfkmCURaMIfAg', 'https://i.ytimg.com/vi/72UO0v5ESUo/hq720.jpg?sqp=-oaymwEXCNAFEJQDSFryq4qpAwkIARUAAIhCGAE=&rs=AOn4CLDPDBbvefRfrx-WG9AKH-sP2XtCRA'], 'title': 'Luis Fonsi, Daddy Yankee - Despacito (Audio) ft. Justin Bieber', 'long_desc': None, 'channel': 'Luis Fonsi', 'duration': '3:49', 'views': '675,851,095 views', 'publish_time': '6 years ago', 'url_suffix': '/watch?v=72UO0v5ESUo&pp=ygUJZGVzcGFjaXRv'}, {'id': 'dr_GAJZviR0', 'thumbnails': ['https://i.ytimg.com/vi/dr_GAJZviR0/hqdefault.jpg?sqp=-oaymwEjCOADEI4CSFryq4qpAxUIARUAAAAAGAElAADIQj0AgKJDeAE=&rs=AOn4CLDyUcPVKPJ-A4TBzx3BI53SOxdW-g'], 'title': 'Luis Fonsi, Daddy Yankee - Despacito ft. Justin Bieber', 'long_desc': None, 'channel': 'MasterDumb', 'duration': '4:11', 'views': '28,813,486 views', 'publish_time': '5 years ago', 'url_suffix': '/watch?v=dr_GAJZviR0&pp=ygUJZGVzcGFjaXRv'}, {'id': '_HoaBC7X_hE', 'thumbnails': ['https://i.ytimg.com/vi/_HoaBC7X_hE/hq720.jpg?sqp=-oaymwE9COgCEMoBSFryq4qpAy8IARUAAAAAGAElAADIQj0AgKJDeAHwAQH4Af4JgALQBYoCDAgAEAEYciA7KEUwDw==&rs=AOn4CLDc_BzG7DwmFDnPrXSWMJMNkwkCJw', 'https://i.ytimg.com/vi/_HoaBC7X_hE/hq720.jpg?sqp=-oaymwExCNAFEJQDSFryq4qpAyMIARUAAIhCGAHwAQH4Af4JgALQBYoCDAgAEAEYciA7KEUwDw==&rs=AOn4CLCAlii3nmAClVUt0HhziJ5IdG1h4w'], 'title': 'Luis Fonsi feat. Daddy Yankee - Despacito (Official Music Video)', 'long_desc': None, 'channel': 'Michael May', 'duration': '4:42', 'views': '146,202 views', 'publish_time': '2 weeks ago', 'url_suffix': '/watch?v=_HoaBC7X_hE&pp=ygUJZGVzcGFjaXRv'}, {'id': 'DdwDAoJ8bFk', 'thumbnails': ['https://i.ytimg.com/vi/DdwDAoJ8bFk/hq720.jpg?sqp=-oaymwEjCOgCEMoBSFryq4qpAxUIARUAAAAAGAElAADIQj0AgKJDeAE=&rs=AOn4CLBAHvmWD5tuKmKAbdGxBomvQpv2Wg', 'https://i.ytimg.com/vi/DdwDAoJ8bFk/hq720.jpg?sqp=-oaymwEXCNAFEJQDSFryq4qpAwkIARUAAIhCGAE=&rs=AOn4CLAXpsuZI_Y5ECORJ2EMS2q8VCx_2w'], 'title': 'Despacito - Luis Fonsi (Feat. Daddy Yankee) (Lyrics) 🎵', 'long_desc': None, 'channel': 'Pillow', 'duration': '4:01', 'views': '538,384 views', 'publish_time': '2 years ago', 'url_suffix': '/watch?v=DdwDAoJ8bFk&pp=ygUJZGVzcGFjaXRv'}]\n"
          ]
        }
      ]
    },
    {
      "cell_type": "code",
      "source": [
        "print(result[0]['url_suffix'])"
      ],
      "metadata": {
        "colab": {
          "base_uri": "https://localhost:8080/"
        },
        "id": "9KOyY9uf6WZp",
        "outputId": "0ee36780-f687-4c9a-d3e5-d92441ca55ef"
      },
      "execution_count": 6,
      "outputs": [
        {
          "output_type": "stream",
          "name": "stdout",
          "text": [
            "/watch?v=kJQP7kiw5Fk&pp=ygUJZGVzcGFjaXRv\n"
          ]
        }
      ]
    },
    {
      "cell_type": "code",
      "source": [
        "url = 'http://www.youtube.com' + result[0]['url_suffix']\n",
        "print(url)\n",
        "webbrowser.open(url)"
      ],
      "metadata": {
        "colab": {
          "base_uri": "https://localhost:8080/"
        },
        "id": "besm5PjC6kS3",
        "outputId": "6eaba661-74e7-4121-8b73-349afbd6b2e7"
      },
      "execution_count": 8,
      "outputs": [
        {
          "output_type": "stream",
          "name": "stdout",
          "text": [
            "http://www.youtube.com/watch?v=kJQP7kiw5Fk&pp=ygUJZGVzcGFjaXRv\n"
          ]
        },
        {
          "output_type": "execute_result",
          "data": {
            "text/plain": [
              "False"
            ]
          },
          "metadata": {},
          "execution_count": 8
        }
      ]
    },
    {
      "cell_type": "code",
      "source": [
        "pip install openpyxl"
      ],
      "metadata": {
        "id": "Jy_vn86K8CLD"
      },
      "execution_count": null,
      "outputs": []
    },
    {
      "cell_type": "code",
      "source": [
        "import youtube_search\n",
        "from openpyxl import Workbook\n",
        "from youtube_search import YoutubeSearch\n",
        "import webbrowser\n",
        "\n",
        "data = Workbook()\n",
        "sheet = data.active\n",
        "mysong = input('Xin moi nhap bai hat: ')\n",
        "result = YoutubeSearch(mysong, max_results=10).to_dict()\n",
        "for i in range(10):\n",
        "  print(result[i]['title'])\n",
        "  print(result[i]['url_suffix'])\n",
        "  url = 'http://www.youtube.com' + result[i]['url_suffix']\n",
        "  print(url)\n",
        "  sheet['A' + str(i+1)] = i+1\n",
        "  sheet['B' + str(i+1)] = result[i]['title']\n",
        "  sheet['C' + str(i+1)] = result[i]['url_suffix']\n",
        "  sheet['D' + str(i+1)] = result[i]['views']\n",
        "  #Webbrowser.open(url)\n",
        "data.save('UTE.xlsx')"
      ],
      "metadata": {
        "id": "H8qe3K4X8UJx"
      },
      "execution_count": null,
      "outputs": []
    },
    {
      "cell_type": "markdown",
      "source": [
        "**Speech to Text**"
      ],
      "metadata": {
        "id": "L7ADPawSBeIG"
      }
    },
    {
      "cell_type": "code",
      "source": [
        "pip install SpeechRecognition pydub"
      ],
      "metadata": {
        "id": "9xj4ayoKA6yq"
      },
      "execution_count": null,
      "outputs": []
    },
    {
      "cell_type": "code",
      "source": [
        "import speech_recognition as sr\n",
        "\n",
        "file = '/content/drive/MyDrive/AI/File âm thanh/male.wav'\n",
        "r = sr.Recognizer()\n",
        "with sr.AudioFile(file) as source:\n",
        "  audio_data = r.record(source)\n",
        "  text = r.recognize_google(audio_data)\n",
        "  print(text)"
      ],
      "metadata": {
        "colab": {
          "base_uri": "https://localhost:8080/"
        },
        "id": "hIu2w4TRBqIt",
        "outputId": "b502b79f-dacb-4102-b091-0364d7d246fa"
      },
      "execution_count": 24,
      "outputs": [
        {
          "output_type": "stream",
          "name": "stdout",
          "text": [
            "what if somebody decides to break it be careful that you keep adequate coverage but look for places to save money baby it's taking longer to get things squared away than the bankers expected during the wife for once company may win her tax hated retirement income as helpful as our cost on the two naked bone when the title of this type of song is in question there's no dying or waxing or gassing needed maybe personalized leather hard place work on a flat surface and smooth out the simplest kind of separate system uses a single self-contained unit the old shop at it still holds a good mechanic is usually a bad boss both figures would go higher in later years doll houses at set\n"
          ]
        }
      ]
    },
    {
      "cell_type": "code",
      "source": [
        "import speech_recognition as sr\n",
        "\n",
        "file = '/content/drive/MyDrive/AI/File âm thanh/male.wav'\n",
        "r = sr.Recognizer()\n",
        "with sr.AudioFile(file) as source:\n",
        "  audio1 = r.record(source, duration = 4)\n",
        "  audio2 = r.record(source, duration = 10)\n",
        "  audio3 = r.record(source, offset = 4, duration = 10)\n",
        "  text = r.recognize_google(audio_data)\n",
        "  print(r.recognize_google(audio1))\n",
        "  print(r.recognize_google(audio2))\n",
        "  print(r.recognize_google(audio3))"
      ],
      "metadata": {
        "colab": {
          "base_uri": "https://localhost:8080/"
        },
        "id": "ytiJ03bIELJ8",
        "outputId": "7ebf1428-9cb1-4052-dd42-653304eb0d56"
      },
      "execution_count": 25,
      "outputs": [
        {
          "output_type": "stream",
          "name": "stdout",
          "text": [
            "what if somebody decides to break it be careful that you keep attic\n",
            "but look for places to save money baby it's taking longer to get things squared away than the bankers expected hiring the Y for one company may win her tie\n",
            "Elsa saving Rags are hers latest on the two naked bone into when the title of this type of song is in question there's no dying or waxing\n"
          ]
        }
      ]
    },
    {
      "cell_type": "code",
      "source": [
        "import speech_recognition as sr\n",
        "\n",
        "r = sr.Recognizer()\n",
        "with sr.AudioFile('/content/drive/MyDrive/AI/File âm thanh/3. Nhạc Thái Lan.wav') as source:\n",
        "  audio = r.record(source)\n",
        "r.recognize_google(audio, language='th_TH')"
      ],
      "metadata": {
        "colab": {
          "base_uri": "https://localhost:8080/",
          "height": 53
        },
        "id": "iqGH7V_xFdcR",
        "outputId": "940ded67-5fe4-45e8-d8bf-60392334c973"
      },
      "execution_count": 26,
      "outputs": [
        {
          "output_type": "execute_result",
          "data": {
            "text/plain": [
              "'บางทีจะยอมใจเย็นๆแล้วฟังฉันทำไมฉันเหงาๆยังไม่เคยไปหาใครๆใครก็อยากให้รู้ไว้ว่าจะทำอะไรตอนนี้จะทำอะไรก็ทำได้ไหมเห็นมันลงเฟซมาสื่อสารไม่ต้องพึ่งนกพิราบแค่คิดถึงแค่นั้นฉันก็จะไปอยู่กับแม่น่าจะเป็นอย่างนั้นแม่จะอยู่ที่ไหนจะไปหาฉันฉันเอาไว้ฉันดีใจที่มีเธอ'"
            ],
            "application/vnd.google.colaboratory.intrinsic+json": {
              "type": "string"
            }
          },
          "metadata": {},
          "execution_count": 26
        }
      ]
    },
    {
      "cell_type": "code",
      "source": [
        "import speech_recognition as sr\n",
        "\n",
        "r = sr.Recognizer()\n",
        "with sr.AudioFile('/content/drive/MyDrive/AI/Học AI/ưng quá chừng loop version AMEE x TDK x KAI ĐINH.wav') as source:\n",
        "  audio = r.record(source, duration = 60)\n",
        "r.recognize_google(audio, language='vi-VN')"
      ],
      "metadata": {
        "colab": {
          "base_uri": "https://localhost:8080/",
          "height": 36
        },
        "id": "dL9F-ZwVHixv",
        "outputId": "123910b1-f094-4a5d-9091-20edbb717b10"
      },
      "execution_count": 34,
      "outputs": [
        {
          "output_type": "execute_result",
          "data": {
            "text/plain": [
              "'hôm nay như thế này sao mà bây giờ đây cùng với em chỉ thấy anh thôi đây rất đèn đi em Em yêu nhưng bên trong lòng em có ai yêu là gì'"
            ],
            "application/vnd.google.colaboratory.intrinsic+json": {
              "type": "string"
            }
          },
          "metadata": {},
          "execution_count": 34
        }
      ]
    },
    {
      "cell_type": "markdown",
      "source": [
        "# ja: Nhhật;\n",
        "ru: Nga;\n",
        "fr: Pháp;\n",
        "ko: Hàn;\n",
        "dc: Đức;\n",
        "zh_cn : Trung giản thể;\n",
        "zh_tw : Trung phồn thể;\n",
        "id: Indo;"
      ],
      "metadata": {
        "id": "AO53Pr_pGMUK"
      }
    },
    {
      "cell_type": "code",
      "source": [
        "pip install text-to-speech"
      ],
      "metadata": {
        "id": "b2DMtcYbJ458"
      },
      "execution_count": null,
      "outputs": []
    },
    {
      "cell_type": "code",
      "source": [
        "from gtts import gTTS\n",
        "import os\n",
        "\n",
        "A = '¡Ay!\\\n",
        "Fonsi, DY\\\n",
        "Oh, oh no, oh no\\\n",
        "Hey yeah\\\n",
        "Diridiri, dirididi Daddy\\\n",
        "Go!\\\n",
        "Sí, sabes que ya llevo un rato mirándote\\\n",
        "Tengo que bailar contigo hoy\\\n",
        "Vi que tu mirada ya estaba llamándome\\\n",
        "Muéstrame el camino que yo voy\\\n",
        "Oh, tú, tú eres el imán y yo soy el metal\\\n",
        "Me voy acercando y voy armando el plan\\\n",
        "Solo con pensarlo se acelera el pulso'\n",
        "\n",
        "speak = gTTS(text=A, lang= 'es', slow = False)\n",
        "speak.save('Fonsi.mp3')\n",
        "\n",
        "#playsound('Speech.mp3')\n",
        "#os.remove('Speech.mp3')\n",
        "print(text)"
      ],
      "metadata": {
        "colab": {
          "base_uri": "https://localhost:8080/"
        },
        "id": "7w79u3zSJ8ai",
        "outputId": "d719e8bf-1b37-438f-856c-3fd251c17dc1"
      },
      "execution_count": 51,
      "outputs": [
        {
          "output_type": "stream",
          "name": "stdout",
          "text": [
            "what if somebody decides to break it be careful that you keep adequate coverage but look for places to save money baby it's taking longer to get things squared away than the bankers expected during the wife for once company may win her tax hated retirement income as helpful as our cost on the two naked bone when the title of this type of song is in question there's no dying or waxing or gassing needed maybe personalized leather hard place work on a flat surface and smooth out the simplest kind of separate system uses a single self-contained unit the old shop at it still holds a good mechanic is usually a bad boss both figures would go higher in later years doll houses at set\n"
          ]
        }
      ]
    },
    {
      "cell_type": "code",
      "source": [
        "pip install googletrans==3.1.0a0"
      ],
      "metadata": {
        "id": "0AbfbBXlRShi"
      },
      "execution_count": null,
      "outputs": []
    },
    {
      "cell_type": "code",
      "source": [
        "from googletrans import Translator\n",
        "\n",
        "translator = Translator()\n",
        "translation = translator.translate('Thằng Đạt ngu dốt', dest ='en')\n",
        "print(translation.text)"
      ],
      "metadata": {
        "colab": {
          "base_uri": "https://localhost:8080/"
        },
        "id": "lUD9jsXeRrw2",
        "outputId": "43ad1ebe-71e8-45cd-fb03-48477414681d"
      },
      "execution_count": 61,
      "outputs": [
        {
          "output_type": "stream",
          "name": "stdout",
          "text": [
            "Stupid Dat\n"
          ]
        }
      ]
    },
    {
      "cell_type": "code",
      "source": [
        "import speech_recognition as sr\n",
        "from googletrans import Translator\n",
        "from gtts import gTTS\n",
        "import os\n",
        "\n",
        "file = '/content/on_et (mp3cut.net).wav'\n",
        "r = sr.Recognizer()\n",
        "with sr.AudioFile(file) as source:\n",
        "  audio_data = r.record(source)\n",
        "  text = r.recognize_google(audio_data, language = 'th')\n",
        "\n",
        "translator = Translator()\n",
        "translation = translator.translate(text, dest ='vi')\n",
        "print(translation.text)\n",
        "\n",
        "A = translation.text\n",
        "speak = gTTS(text=A, lang= 'vi', slow = False)\n",
        "speak.save('onett.mp3')\n",
        "\n",
        "#playsound('Speech.mp3')\n",
        "#os.remove('Speech.mp3')\n",
        "print(text)"
      ],
      "metadata": {
        "colab": {
          "base_uri": "https://localhost:8080/"
        },
        "id": "LjFuntYSTMpp",
        "outputId": "74614b2d-c1a7-487d-a4ac-6834df178fb7"
      },
      "execution_count": 75,
      "outputs": [
        {
          "output_type": "stream",
          "name": "stdout",
          "text": [
            "Kỳ lạ, kỳ lạ, kỳ lạ, kỳ lạ, kỳ lạ, mỗi lần anh nhìn cô, anh đều nói rằng cô nói đúng, vì vậy anh đã gặp Nuan Nang từ khi sinh ra.\n",
            "อ๊อดแอดอ๊อดแอดอ๊อดแอดอ๊อดแอดยามจะมองจ้องเธอครั้งใดพูดออกจากใจว่าเธอใช่เลยเจอนวลนางมาตั้งแต่เกิดโอช่างบรรเจิดคือเธอผู้เดียว\n"
          ]
        }
      ]
    },
    {
      "cell_type": "markdown",
      "source": [
        "# **Chuyên âm thanh sang miền tần số**\n",
        "**MFCC**"
      ],
      "metadata": {
        "id": "Wo-VRcQMYdxz"
      }
    },
    {
      "cell_type": "code",
      "source": [
        "pip install scipy"
      ],
      "metadata": {
        "id": "GHnHvrj_bmRc"
      },
      "execution_count": null,
      "outputs": []
    },
    {
      "cell_type": "code",
      "source": [
        "pip install python_speech_features"
      ],
      "metadata": {
        "id": "7jEgtB6mdWay"
      },
      "execution_count": null,
      "outputs": []
    },
    {
      "cell_type": "code",
      "source": [
        "import numpy as np\n",
        "import matplotlib.pyplot as plt\n",
        "from scipy.io import wavfile\n",
        "from python_speech_features import mfcc, logfbank\n",
        "\n",
        "frequency_sample, audio_signal = wavfile.read('/content/Tieng-Cho-sua-du-doi.wav')\n",
        "audio_signal = audio_signal[:1500]\n",
        "feature_mfcc = mfcc(audio_signal, frequency_sample)\n",
        "print('\\nMFCC:\\n Number of windown = ', feature_mfcc.shape[0])\n",
        "print('Length of each feature: ', feature_mfcc.shape[1])"
      ],
      "metadata": {
        "colab": {
          "base_uri": "https://localhost:8080/"
        },
        "id": "rMV50R8UYcgP",
        "outputId": "574b7cc6-0e5a-493c-8d2e-fb71c4b15742"
      },
      "execution_count": 100,
      "outputs": [
        {
          "output_type": "stream",
          "name": "stderr",
          "text": [
            "WARNING:root:frame length (1103) is greater than FFT size (512), frame will be truncated. Increase NFFT to avoid.\n"
          ]
        },
        {
          "output_type": "stream",
          "name": "stdout",
          "text": [
            "\n",
            "MFCC:\n",
            " Number of windown =  6\n",
            "Length of each feature:  13\n"
          ]
        }
      ]
    },
    {
      "cell_type": "code",
      "source": [
        "feature_mfcc = feature_mfcc.T\n",
        "plt.matshow(feature_mfcc)\n",
        "plt.title('MFCC')"
      ],
      "metadata": {
        "colab": {
          "base_uri": "https://localhost:8080/",
          "height": 776
        },
        "id": "PT1UES_Ka9ym",
        "outputId": "2e953e4a-7051-467a-c20e-2894a30bd0a0"
      },
      "execution_count": 101,
      "outputs": [
        {
          "output_type": "execute_result",
          "data": {
            "text/plain": [
              "Text(0.5, 1.0, 'MFCC')"
            ]
          },
          "metadata": {},
          "execution_count": 101
        },
        {
          "output_type": "display_data",
          "data": {
            "text/plain": [
              "<Figure size 400x866.667 with 1 Axes>"
            ],
            "image/png": "[encoded data removed]"
          },
          "metadata": {}
        }
      ]
    },
    {
      "cell_type": "code",
      "source": [
        "filterbank_feature = logfbank(audio_signal, frequency_sample)\n",
        "print('\\nFilter bank:\\n Number of windown= ',filterbank_feature.shape[0])\n",
        "print('Length of each feature: ', filterbank_feature.shape[1])"
      ],
      "metadata": {
        "colab": {
          "base_uri": "https://localhost:8080/"
        },
        "id": "lNexNaYdb-X-",
        "outputId": "aa4f5e73-dc0f-406b-a2e6-7bdb1bb243d2"
      },
      "execution_count": 102,
      "outputs": [
        {
          "output_type": "stream",
          "name": "stderr",
          "text": [
            "WARNING:root:frame length (1103) is greater than FFT size (512), frame will be truncated. Increase NFFT to avoid.\n"
          ]
        },
        {
          "output_type": "stream",
          "name": "stdout",
          "text": [
            "\n",
            "Filter bank:\n",
            " Number of windown=  6\n",
            "Length of each feature:  26\n"
          ]
        }
      ]
    },
    {
      "cell_type": "code",
      "source": [
        "filterbank_feature = filterbank_feature.T\n",
        "plt.matshow(filterbank_feature)\n",
        "plt.title(' Filter bank')\n",
        "plt.show()"
      ],
      "metadata": {
        "colab": {
          "base_uri": "https://localhost:8080/",
          "height": 1000
        },
        "id": "hCHG97b_dDzL",
        "outputId": "5677efff-549d-4d60-b295-95ee592cf6e0"
      },
      "execution_count": 103,
      "outputs": [
        {
          "output_type": "display_data",
          "data": {
            "text/plain": [
              "<Figure size 400x1600 with 1 Axes>"
            ],
            "image/png": "[encoded data removed]"
          },
          "metadata": {}
        }
      ]
    }
  ]
}